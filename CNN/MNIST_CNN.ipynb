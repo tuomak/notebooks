{
  "nbformat": 4,
  "nbformat_minor": 0,
  "metadata": {
    "colab": {
      "name": "Keras_MNIST_CNN",
      "provenance": [],
      "collapsed_sections": []
    },
    "kernelspec": {
      "name": "python3",
      "display_name": "Python 3"
    },
    "accelerator": "GPU"
  },
  "cells": [
    {
      "cell_type": "code",
      "metadata": {
        "id": "CFnafjrkArio",
        "colab": {
          "base_uri": "https://localhost:8080/"
        },
        "outputId": "c9eb8dd9-8331-46fd-98d6-da988a79b28b"
      },
      "source": [
        "from keras.datasets import mnist\n",
        "from keras.utils import to_categorical\n",
        "from keras.models import Sequential\n",
        "from keras.layers import Dense, Dropout, Flatten, Conv2D, MaxPooling2D\n",
        "import matplotlib.pyplot as plt\n",
        "import numpy as np\n",
        "\n",
        "print('Done importing.')"
      ],
      "execution_count": 31,
      "outputs": [
        {
          "output_type": "stream",
          "text": [
            "Done importing.\n"
          ],
          "name": "stdout"
        }
      ]
    },
    {
      "cell_type": "code",
      "metadata": {
        "id": "RRR8dy3LA7IC",
        "colab": {
          "base_uri": "https://localhost:8080/"
        },
        "outputId": "ec9536de-f420-4129-eef3-3eb9b4e86190"
      },
      "source": [
        "(x_train, y_train), (x_test, y_test) = mnist.load_data()\n",
        "print('Data loaded.')"
      ],
      "execution_count": 32,
      "outputs": [
        {
          "output_type": "stream",
          "text": [
            "Data loaded.\n"
          ],
          "name": "stdout"
        }
      ]
    },
    {
      "cell_type": "code",
      "metadata": {
        "id": "8gGw_rgRBLUj",
        "colab": {
          "base_uri": "https://localhost:8080/",
          "height": 282
        },
        "outputId": "f52f765c-3371-410d-b648-41e6ada8affe"
      },
      "source": [
        "index = 35\n",
        "print(y_train[index])\n",
        "plt.imshow(x_train[index], cmap='Greys')\n",
        "plt.show()"
      ],
      "execution_count": 33,
      "outputs": [
        {
          "output_type": "stream",
          "text": [
            "5\n"
          ],
          "name": "stdout"
        },
        {
          "output_type": "display_data",
          "data": {
            "image/png": "[encoded data removed]",
            "text/plain": [
              "<Figure size 432x288 with 1 Axes>"
            ]
          },
          "metadata": {
            "tags": [],
            "needs_background": "light"
          }
        }
      ]
    },
    {
      "cell_type": "code",
      "metadata": {
        "id": "S030PDkeBzKc",
        "colab": {
          "base_uri": "https://localhost:8080/"
        },
        "outputId": "94dd0f1d-4070-4215-e8d8-4d76dd220268"
      },
      "source": [
        "print(x_train.shape)\n",
        "print(x_test.shape)"
      ],
      "execution_count": 34,
      "outputs": [
        {
          "output_type": "stream",
          "text": [
            "(60000, 28, 28)\n",
            "(10000, 28, 28)\n"
          ],
          "name": "stdout"
        }
      ]
    },
    {
      "cell_type": "code",
      "metadata": {
        "id": "3pXuGEg9Cd6h"
      },
      "source": [
        "img_rows, img_cols = 28, 28\n",
        "x_train, x_test = x_train.reshape((x_train.shape[0], img_cols, img_rows, 1)), x_test.reshape((x_test.shape[0], img_cols, img_rows, 1))\n",
        "x_train, x_test = x_train / 255.0, x_test / 255.0"
      ],
      "execution_count": 36,
      "outputs": []
    },
    {
      "cell_type": "code",
      "metadata": {
        "id": "tHNBtQ7UTfID",
        "colab": {
          "base_uri": "https://localhost:8080/"
        },
        "outputId": "5cebc9ca-433e-48af-c671-05b06f20ba21"
      },
      "source": [
        "num_classes = 10\n",
        "if y_train.shape[-1] != 10 or y_test.shape[-1] != 10:\n",
        "  y_train, y_test = to_categorical(y_train), to_categorical(y_test)\n",
        "\n",
        "print(x_train.shape, x_test.shape)\n",
        "print(y_train.shape, y_test.shape)"
      ],
      "execution_count": 37,
      "outputs": [
        {
          "output_type": "stream",
          "text": [
            "(60000, 28, 28, 1) (10000, 28, 28, 1)\n",
            "(60000, 10) (10000, 10)\n"
          ],
          "name": "stdout"
        }
      ]
    },
    {
      "cell_type": "code",
      "metadata": {
        "id": "ArxOihl6T3et"
      },
      "source": [
        "model = Sequential()\n",
        "\n",
        "model.add(Conv2D(32, (3, 3), activation='relu', input_shape=x_train.shape[1:]))\n",
        "model.add(Conv2D(64, (3, 3), activation='relu'))\n",
        "\n",
        "model.add(MaxPooling2D(pool_size=(2, 2)))\n",
        "\n",
        "model.add(Dropout(0.25))\n",
        "\n",
        "model.add(Flatten())\n",
        "\n",
        "model.add(Dense(128, activation='relu'))\n",
        "model.add(Dropout(0.5))\n",
        "model.add(Dense(num_classes, activation='softmax'))"
      ],
      "execution_count": 41,
      "outputs": []
    },
    {
      "cell_type": "code",
      "metadata": {
        "id": "AB-CDzm5ZYze"
      },
      "source": [
        "model.compile(loss='categorical_crossentropy',\n",
        "      optimizer='adam',\n",
        "      metrics=['accuracy'])"
      ],
      "execution_count": 39,
      "outputs": []
    },
    {
      "cell_type": "code",
      "metadata": {
        "id": "WlwhHND-AgNJ"
      },
      "source": [
        ""
      ],
      "execution_count": 39,
      "outputs": []
    },
    {
      "cell_type": "code",
      "metadata": {
        "id": "gm27xGyiZsma",
        "colab": {
          "base_uri": "https://localhost:8080/"
        },
        "outputId": "2281e5e6-f728-438c-a96c-16348cf8bd36"
      },
      "source": [
        "batch_size = 128\n",
        "epochs = 10\n",
        "\n",
        "model.fit(x_train, y_train,\n",
        "          batch_size=batch_size,\n",
        "          epochs=epochs,\n",
        "          verbose=1,\n",
        "          validation_data=(x_test, y_test))\n",
        "score = model.evaluate(x_test, y_test, verbose=0)\n",
        "print('Test loss:', score[0])\n",
        "print('Test accuracy:', score[1])"
      ],
      "execution_count": 40,
      "outputs": [
        {
          "output_type": "stream",
          "text": [
            "Epoch 1/10\n",
            "469/469 [==============================] - 4s 8ms/step - loss: 0.2453 - accuracy: 0.9246 - val_loss: 0.0609 - val_accuracy: 0.9803\n",
            "Epoch 2/10\n",
            "469/469 [==============================] - 4s 8ms/step - loss: 0.0852 - accuracy: 0.9751 - val_loss: 0.0392 - val_accuracy: 0.9870\n",
            "Epoch 3/10\n",
            "469/469 [==============================] - 4s 8ms/step - loss: 0.0637 - accuracy: 0.9809 - val_loss: 0.0311 - val_accuracy: 0.9895\n",
            "Epoch 4/10\n",
            "469/469 [==============================] - 4s 8ms/step - loss: 0.0509 - accuracy: 0.9845 - val_loss: 0.0342 - val_accuracy: 0.9887\n",
            "Epoch 5/10\n",
            "469/469 [==============================] - 4s 8ms/step - loss: 0.0443 - accuracy: 0.9861 - val_loss: 0.0341 - val_accuracy: 0.9895\n",
            "Epoch 6/10\n",
            "469/469 [==============================] - 4s 8ms/step - loss: 0.0386 - accuracy: 0.9880 - val_loss: 0.0305 - val_accuracy: 0.9900\n",
            "Epoch 7/10\n",
            "469/469 [==============================] - 4s 8ms/step - loss: 0.0346 - accuracy: 0.9889 - val_loss: 0.0308 - val_accuracy: 0.9907\n",
            "Epoch 8/10\n",
            "469/469 [==============================] - 4s 8ms/step - loss: 0.0309 - accuracy: 0.9897 - val_loss: 0.0273 - val_accuracy: 0.9920\n",
            "Epoch 9/10\n",
            "469/469 [==============================] - 4s 8ms/step - loss: 0.0287 - accuracy: 0.9907 - val_loss: 0.0304 - val_accuracy: 0.9917\n",
            "Epoch 10/10\n",
            "469/469 [==============================] - 4s 8ms/step - loss: 0.0256 - accuracy: 0.9917 - val_loss: 0.0321 - val_accuracy: 0.9915\n",
            "Test loss: 0.032116275280714035\n",
            "Test accuracy: 0.9915000200271606\n"
          ],
          "name": "stdout"
        }
      ]
    }
  ]
}